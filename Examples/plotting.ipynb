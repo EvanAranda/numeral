{
 "cells": [
  {
   "cell_type": "code",
   "execution_count": null,
   "source": [
    "#r \"../Numeral/bin/Debug/net5.0/Numeral.dll\"\n",
    "#r \"nuget:XPlot.Plotly\"\n",
    "#r \"nuget:XPlot.Plotly.Interactive\""
   ],
   "outputs": [],
   "metadata": {
    "dotnet_interactive": {
     "language": "csharp"
    }
   }
  },
  {
   "cell_type": "code",
   "execution_count": null,
   "source": [
    "using System;\n",
    "using System.Collections.Generic;\n",
    "using System.Linq;\n",
    "\n",
    "using Numeral;\n",
    "using Microsoft.DotNet.Interactive.Formatting;\n",
    "using XPlot.Plotly;\n",
    "using XPlot.Plotly.Interactive;"
   ],
   "outputs": [],
   "metadata": {
    "dotnet_interactive": {
     "language": "csharp"
    }
   }
  },
  {
   "cell_type": "code",
   "execution_count": null,
   "source": [
    "var n = 500;\n",
    "\n",
    "var x = NDArray.Linspace<double>(-2 * Math.PI, 2 * Math.PI, n);\n",
    "var xx = x.Reshape(-1, 1);\n",
    "var yy = x.Reshape(1, -1);\n",
    "var r2 = xx.Pow(2) + yy.Pow(2);\n",
    "var z = xx.Sin() * yy.Cos() * r2.Sin() / (r2 + 4).Apply(Math.Log2);\n",
    "\n",
    "var contour = new Contour() { x = xx, y = yy, z = z.ToArray2d() };\n",
    "var chart = Chart.Plot(contour);\n",
    "chart"
   ],
   "outputs": [
    {
     "output_type": "execute_result",
     "data": {
      "text/html": ""
     },
     "metadata": {},
     "execution_count": 9
    }
   ],
   "metadata": {
    "dotnet_interactive": {
     "language": "csharp"
    }
   }
  },
  {
   "cell_type": "code",
   "execution_count": null,
   "source": [
    "var rng = new System.Random();\n",
    "var buffer = new double[1000];\n",
    "\n",
    "for (int i = 0; i < buffer.Length; i++)\n",
    "    buffer[i] = rng.NextDouble();\n",
    "\n",
    "var histPlot = new Histogram() { x = buffer };\n",
    "Chart.Plot(histPlot)"
   ],
   "outputs": [
    {
     "output_type": "execute_result",
     "data": {
      "text/html": ""
     },
     "metadata": {},
     "execution_count": 4
    }
   ],
   "metadata": {
    "dotnet_interactive": {
     "language": "csharp"
    }
   }
  },
  {
   "cell_type": "code",
   "execution_count": null,
   "source": [
    "var returns = buffer.AsNDArray();\n",
    "var prices = returns.Accum(0, (double ri, double acc) => ri * acc);\n"
   ],
   "outputs": [],
   "metadata": {
    "dotnet_interactive": {
     "language": "csharp"
    }
   }
  },
  {
   "cell_type": "code",
   "execution_count": null,
   "source": [],
   "outputs": [],
   "metadata": {
    "dotnet_interactive": {
     "language": "csharp"
    }
   }
  }
 ],
 "metadata": {
  "kernelspec": {
   "display_name": ".NET (C#)",
   "language": "C#",
   "name": ".net-csharp"
  },
  "language_info": {
   "file_extension": ".cs",
   "mimetype": "text/x-csharp",
   "name": "C#",
   "pygments_lexer": "csharp",
   "version": "9.0"
  }
 },
 "nbformat": 4,
 "nbformat_minor": 4
}